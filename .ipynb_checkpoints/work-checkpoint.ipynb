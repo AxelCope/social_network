{
 "cells": [
  {
   "cell_type": "markdown",
   "metadata": {},
   "source": [
    "# Projet : Simulation de la propagation d'un virus (SIR) sur différents types de graphes\n",
    "\n",
    "**Date**: 27 Mai 2025\n",
    "\n",
    "**Objectif**: Simuler la dynamique d'une épidémie en utilisant le modèle SIR (Susceptible-Infected-Recovered) sur des graphes Erdős-Rényi (ER), Watts-Strogatz (WS), et Barabási-Albert (BA), puis comparer la vitesse et l'étendue de la propagation selon la structure du réseau.\n",
    "\n",
    "**Auteur**: [Votre Nom]\n",
    "\n",
    "## Prérequis : Installation des packages\n",
    "\n",
    "Pour exécuter ce notebook, vous devez installer les bibliothèques Python suivantes. Exécutez les commandes suivantes dans votre terminal ou invite de commande :\n",
    "\n",
    "```bash\n",
    "pip install networkx\n",
    "pip install numpy\n",
    "pip install matplotlib\n",
    "```\n",
    "\n",
    "Assurez-vous d'avoir Python 3.x installé. Ces packages sont nécessaires pour la génération des graphes, les calculs numériques et les visualisations.\n",
    "\n",
    "## Contexte pédagogique\n",
    "\n",
    "Ce projet vise à :\n",
    "- Mettre en pratique les modèles de graphes (ER, WS, BA).\n",
    "- Comprendre la diffusion dans des réseaux complexes.\n",
    "- Travailler avec des simulations stochastiques.\n",
    "- Observer des propriétés comme les hubs ou les petits mondes.\n",
    "\n",
    "## Structure du notebook\n",
    "\n",
    "1. Importation des bibliothèques\n",
    "2. Implémentation des fonctions SIR\n",
    "3. Simulation sur les différents graphes\n",
    "4. Visualisation et analyse comparative\n",
    "5. Conclusions"
   ]
  },
  {
   "cell_type": "code",
   "execution_count": null,
   "metadata": {},
   "outputs": [],
   "source": [
    "import networkx as nx\n",
    "import numpy as np\n",
    "import matplotlib.pyplot as plt\n",
    "from random import choice, random\n",
    "\n",
    "# Set random seed for reproducibility\n",
    "np.random.seed(42)"
   ]
  },
  {
   "cell_type": "markdown",
   "metadata": {},
   "source": [
    "## Étape 1 : Initialisation de l'état des nœuds"
   ]
  },
  {
   "cell_type": "code",
   "execution_count": null,
   "metadata": {},
   "outputs": [],
   "source": [
    "def initialize_sir_states(G, initial_infected=1):\n",
    "    \"\"\"Initialize node states: all S except a few random infected nodes.\n",
    "    \n",
    "    Args:\n",
    "        G (networkx.Graph): Input graph\n",
    "        initial_infected (int): Number of initially infected nodes\n",
    "    \n",
    "    Returns:\n",
    "        dict: Dictionary mapping nodes to their state ('S', 'I', or 'R')\n",
    "    \"\"\"\n",
    "    states = {node: 'S' for node in G.nodes()}\n",
    "    infected_nodes = np.random.choice(list(G.nodes()), size=initial_infected, replace=False)\n",
    "    for node in infected_nodes:\n",
    "        states[node] = 'I'\n",
    "    return states"
   ]
  },
  {
   "cell_type": "markdown",
   "metadata": {},
   "source": [
    "## Étape 2 : Une étape de simulation SIR"
   ]
  },
  {
   "cell_type": "code",
   "execution_count": null,
   "metadata": {},
   "outputs": [],
   "source": [
    "def sir_step(G, states, beta, gamma):\n",
    "    \"\"\"Apply one step of the SIR simulation and return updated states.\n",
    "    \n",
    "    Args:\n",
    "        G (networkx.Graph): Input graph\n",
    "        states (dict): Current node states\n",
    "        beta (float): Infection probability\n",
    "        gamma (float): Recovery probability\n",
    "    \n",
    "    Returns:\n",
    "        dict: Updated node states\n",
    "        tuple: (S_count, I_count, R_count) for current step\n",
    "    \"\"\"\n",
    "    new_states = states.copy()\n",
    "    \n",
    "    # Infection step\n",
    "    for node in G.nodes():\n",
    "        if states[node] == 'I':\n",
    "            for neighbor in G.neighbors(node):\n",
    "                if states[neighbor] == 'S' and random() < beta:\n",
    "                    new_states[neighbor] = 'I'\n",
    "    \n",
    "    # Recovery step\n",
    "    for node in G.nodes():\n",
    "        if states[node] == 'I' and random() < gamma:\n",
    "            new_states[node] = 'R'\n",
    "    \n",
    "    # Count states\n",
    "    S_count = sum(1 for state in new_states.values() if state == 'S')\n",
    "    I_count = sum(1 for state in new_states.values() if state == 'I')\n",
    "    R_count = sum(1 for state in new_states.values() if state == 'R')\n",
    "    \n",
    "    return new_states, (S_count, I_count, R_count)"
   ]
  },
  {
   "cell_type": "markdown",
   "metadata": {},
   "source": [
    "## Étape 3 : Boucle de simulation complète"
   ]
  },
  {
   "cell_type": "code",
   "execution_count": null,
   "metadata": {},
   "outputs": [],
   "source": [
    "def run_sir_simulation(G, beta=0.03, gamma=0.01, initial_infected=1):\n",
    "    \"\"\"Run full SIR simulation until no infected nodes remain.\n",
    "    \n",
    "    Args:\n",
    "        G (networkx.Graph): Input graph\n",
    "        beta (float): Infection probability\n",
    "        gamma (float): Recovery probability\n",
    "        initial_infected (int): Number of initially infected nodes\n",
    "    \n",
    "    Returns:\n",
    "        list: List of (S_count, I_count, R_count) tuples for each time step\n",
    "    \"\"\"\n",
    "    states = initialize_sir_states(G, initial_infected)\n",
    "    results = []\n",
    "    \n",
    "    while sum(1 for state in states.values() if state == 'I') > 0:\n",
    "        states, counts = sir_step(G, states, beta, gamma)\n",
    "        results.append(counts)\n",
    "    \n",
    "    return results"
   ]
  },
  {
   "cell_type": "markdown",
   "metadata": {},
   "source": [
    "## Étape 4 : Comparaison des structures"
   ]
  },
  {
   "cell_type": "code",
   "execution_count": null,
   "metadata": {},
   "outputs": [],
   "source": [
    "def compare_structures(n, p, k, beta_ws, m, beta_sir, gamma_sir):\n",
    "    \"\"\"Run SIR simulation on ER, WS, and BA graphs and return results.\n",
    "    \n",
    "    Args:\n",
    "        n (int): Number of nodes\n",
    "        p (float): Edge probability for ER graph\n",
    "        k (int): Number of nearest neighbors for WS graph\n",
    "        beta_ws (float): Rewiring probability for WS graph\n",
    "        m (int): Number of edges to attach for BA graph\n",
    "        beta_sir (float): Infection probability for SIR\n",
    "        gamma_sir (float): Recovery probability for SIR\n",
    "    \n",
    "    Returns:\n",
    "        dict: Dictionary with graph type as key and SIR results as value\n",
    "    \"\"\"\n",
    "    # Create graphs\n",
    "    G_er = nx.erdos_renyi_graph(n, p)\n",
    "    G_ws = nx.watts_strogatz_graph(n, k, beta_ws)\n",
    "    G_ba = nx.barabasi_albert_graph(n, m)\n",
    "    \n",
    "    # Run simulations\n",
    "    results = {\n",
    "        'ER': run_sir_simulation(G_er, beta_sir, gamma_sir),\n",
    "        'WS': run_sir_simulation(G_ws, beta_sir, gamma_sir),\n",
    "        'BA': run_sir_simulation(G_ba, beta_sir, gamma_sir)\n",
    "    }\n",
    "    \n",
    "    return results"
   ]
  },
  {
   "cell_type": "markdown",
   "metadata": {},
   "source": [
    "## Étape 5 : Affichage et analyse"
   ]
  },
  {
   "cell_type": "code",
   "execution_count": null,
   "metadata": {},
   "outputs": [],
   "source": [
    "def plot_sir_dynamics(sir_results, title=\"SIR Dynamics\"):\n",
    "    \"\"\"Plot S, I, R curves over time.\n",
    "    \n",
    "    Args:\n",
    "        sir_results (dict): Dictionary with graph type and SIR results\n",
    "        title (str): Plot title\n",
    "    \"\"\"\n",
    "    plt.figure(figsize=(12, 8))\n",
    "    \n",
    "    for graph_type, results in sir_results.items():\n",
    "        S = [r[0] for r in results]\n",
    "        I = [r[1] for r in results]\n",
    "        R = [r[2] for r in results]\n",
    "        time = range(len(results))\n",
    "        \n",
    "        plt.plot(time, S, label=f'{graph_type} - Susceptible', linestyle='--')\n",
    "        plt.plot(time, I, label=f'{graph_type} - Infected', linestyle='-')\n",
    "        plt.plot(time, R, label=f'{graph_type} - Recovered', linestyle='-.')\n",
    "    \n",
    "    plt.xlabel('Time Steps')\n",
    "    plt.ylabel('Number of Nodes')\n",
    "    plt.title(title)\n",
    "    plt.legend()\n",
    "    plt.grid(True)\n",
    "    plt.show()"
   ]
  },
  {
   "cell_type": "markdown",
   "metadata": {},
   "source": [
    "## Simulation et Analyse Comparative\n",
    "\n",
    "Nous allons exécuter la simulation avec les paramètres suivants :\n",
    "- Nombre de nœuds : 1000\n",
    "- Probabilité de connexion (ER) : p=0.01\n",
    "- Voisins les plus proches (WS) : k=4\n",
    "- Probabilité de recâblage (WS) : beta_ws=0.1\n",
    "- Arêtes par nœud (BA) : m=2\n",
    "- Probabilité d'infection : beta_sir=0.03\n",
    "- Probabilité de guérison : gamma_sir=0.01"
   ]
  },
  {
   "cell_type": "code",
   "execution_count": null,
   "metadata": {},
   "outputs": [],
   "source": [
    "# Run simulation\n",
    "n = 1000\n",
    "p = 0.01\n",
    "k = 4\n",
    "beta_ws = 0.1\n",
    "m = 2\n",
    "beta_sir = 0.03\n",
    "gamma_sir = 0.01\n",
    "\n",
    "results = compare_structures(n, p, k, beta_ws, m, beta_sir, gamma_sir)\n",
    "plot_sir_dynamics(results, title=\"SIR Dynamics on Different Graph Structures\")"
   ]
  },
  {
   "cell_type": "markdown",
   "metadata": {},
   "source": [
    "## Analyse Comparative\n",
    "\n",
    "### Vitesse d'infection\n",
    "- **Graphe ER**: La propagation est modérée, dépendant fortement de la probabilité de connexion $p$. Avec $p=0.01$, le graphe est relativement peu connecté, ce qui ralentit la propagation.\n",
    "- **Graphe WS**: La propagation est plus rapide en raison de la structure en petits mondes, surtout avec un faible $\\beta_{ws}$ qui maintient des clusters locaux favorisant la transmission rapide au sein des groupes.\n",
    "- **Graphe BA**: La propagation est la plus rapide, surtout si les hubs (nœuds à forte connectivité) sont infectés tôt, car ils agissent comme des super-propagateurs.\n",
    "\n",
    "### Pourcentage total infecté\n",
    "Pour quantifier le pourcentage total infecté, nous calculons la proportion de nœuds ayant atteint l'état 'R' à la fin de la simulation."
   ]
  },
  {
   "cell_type": "code",
   "execution_count": null,
   "metadata": {},
   "outputs": [],
   "source": [
    "def calculate_total_infected(results):\n",
    "    \"\"\"Calculate the total percentage of infected nodes for each graph.\n",
    "    \n",
    "    Args:\n",
    "        results (dict): SIR simulation results\n",
    "    \n",
    "    Returns:\n",
    "        dict: Percentage of total infected nodes per graph type\n",
    "    \"\"\"\n",
    "    total_infected = {}\n",
    "    for graph_type, data in results.items():\n",
    "        final_R = data[-1][2] if data else 0\n",
    "        total_infected[graph_type] = (final_R / n) * 100\n",
    "    return total_infected\n",
    "\n",
    "total_infected = calculate_total_infected(results)\n",
    "for graph_type, percentage in total_infected.items():\n",
    "    print(f'{graph_type}: {percentage:.2f}% nodes were infected')"
   ]
  },
  {
   "cell_type": "markdown",
   "metadata": {},
   "source": [
    "### Rôle de la structure du réseau\n",
    "- **ER**: La structure aléatoire entraîne une propagation homogène mais lente, car il n'y a pas de hubs pour accélérer la diffusion.\n",
    "- **WS**: La propriété de petit monde permet une propagation rapide au sein des clusters locaux, mais la portée globale dépend du recâblage.\n",
    "- **BA**: Les hubs jouent un rôle crucial, permettant une propagation explosive si infectés tôt, mais la résilience du réseau peut être faible si les hubs sont immunisés.\n",
    "\n",
    "## Conclusions\n",
    "La simulation montre que la structure du réseau a un impact significatif sur la dynamique épidémique :\n",
    "- Le graphe BA est le plus vulnérable à une propagation rapide en raison de ses hubs.\n",
    "- Le graphe WS favorise une propagation rapide dans des communautés locales.\n",
    "- Le graphe ER montre une propagation plus lente et plus uniforme.\n",
    "Ces résultats soulignent l'importance de la topologie du réseau dans la gestion des épidémies, avec des implications pour la modélisation de la diffusion d'informations ou de malwares.\n",
    "\n",
    "## Soumission\n",
    "Ce notebook sera converti en PDF et envoyé à l'adresse **bernard.agbemadon@gmail.com** avec l'objet : **M2 - ESGIS - Projet-SA**."
   ]
  }
 ],
 "metadata": {
  "kernelspec": {
   "display_name": "Python 3",
   "language": "python",
   "name": "python3"
  },
  "language_info": {
   "codemirror_mode": {
    "name": "ipython",
    "version": 3
   },
   "file_extension": ".py",
   "mimetype": "text/x-python",
   "name": "python",
   "nbconvert_exporter": "python",
   "pygments_lexer": "ipython3",
   "version": "3.8"
  }
 },
 "nbformat": 4,
 "nbformat_minor": 4
}
